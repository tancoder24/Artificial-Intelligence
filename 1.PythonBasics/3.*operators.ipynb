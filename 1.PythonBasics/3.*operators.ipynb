{
 "cells": [
  {
   "cell_type": "code",
   "execution_count": 1,
   "metadata": {},
   "outputs": [
    {
     "name": "stdout",
     "output_type": "stream",
     "text": [
      "1 [2, 3, 4] 5\n",
      "1 [2, 3, 4] 5\n"
     ]
    }
   ],
   "source": [
    "tup = (1,2,3,4,5)\n",
    "arr = [1,2,3,4,5]\n",
    "\n",
    "a, *b, c = tup\n",
    "print(a,b,c)\n",
    "\n",
    "a, *b, c = arr\n",
    "print(a,b,c)"
   ]
  },
  {
   "cell_type": "code",
   "execution_count": 3,
   "metadata": {},
   "outputs": [
    {
     "name": "stdout",
     "output_type": "stream",
     "text": [
      "1\n",
      "2\n",
      "3\n",
      "tanmay\n",
      "gupta\n",
      "\n",
      "\n",
      "1\n",
      "2\n",
      "3\n",
      "tanmay\n",
      "gupta\n"
     ]
    }
   ],
   "source": [
    "def postinal_args(*args):\n",
    "    for arg in args:\n",
    "        print(arg)\n",
    "\n",
    "postinal_args(1,2,3,\"tanmay\", \"gupta\")\n",
    "print(\"\\n\")\n",
    "\n",
    "\n",
    "def postinal_args(*tanmay):\n",
    "    for arg in tanmay:\n",
    "        print(arg)\n",
    "postinal_args(1,2,3,\"tanmay\", \"gupta\")"
   ]
  },
  {
   "cell_type": "code",
   "execution_count": 8,
   "metadata": {},
   "outputs": [
    {
     "name": "stdout",
     "output_type": "stream",
     "text": [
      "fname tanmay\n",
      "lname gupta\n",
      "\n",
      "\n",
      "fname tanmay\n",
      "lname gupta\n"
     ]
    }
   ],
   "source": [
    "def postinal_args(**kwargs):\n",
    "    for key,value in kwargs.items():\n",
    "        print(key,value)\n",
    "\n",
    "postinal_args(fname=\"tanmay\", lname=\"gupta\")\n",
    "print(\"\\n\")\n",
    "\n",
    "\n",
    "def postinal_args(*args, **kwargs):\n",
    "    for key,value in kwargs.items():\n",
    "        print(key,value)\n",
    "\n",
    "postinal_args(1,2,3,fname=\"tanmay\", lname=\"gupta\")\n"
   ]
  }
 ],
 "metadata": {
  "kernelspec": {
   "display_name": "Python 3",
   "language": "python",
   "name": "python3"
  },
  "language_info": {
   "codemirror_mode": {
    "name": "ipython",
    "version": 3
   },
   "file_extension": ".py",
   "mimetype": "text/x-python",
   "name": "python",
   "nbconvert_exporter": "python",
   "pygments_lexer": "ipython3",
   "version": "3.12.0"
  }
 },
 "nbformat": 4,
 "nbformat_minor": 2
}
